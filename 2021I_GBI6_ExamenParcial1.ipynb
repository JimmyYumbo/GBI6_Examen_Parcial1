{
 "cells": [
  {
   "cell_type": "markdown",
   "metadata": {},
   "source": [
    "<img src=\"https://www.ikiam.edu.ec/img/logo-ikiam-grey.png\" width=300 height=240 />\n",
    "\n",
    "# EXAMEN PARCIAL 1\n",
    "\n",
    "## GBI6-2021II: BIOINFORMÁTICA\n",
    "\n",
    "**Apellidos, Nombres** <--- Yumbo Grefa Jimmy Mauricio\n",
    "\n",
    "**11-01-2021**"
   ]
  },
  {
   "cell_type": "markdown",
   "metadata": {},
   "source": [
    "# 1. UNIX\n",
    "\n",
    "## Ejercicio 1\n",
    "1.Imprimir el directorio de trabajo actual \n",
    "2.Crear un directorio test1\n",
    "3.No cambie de directorio, pero los items 4, 5 y 6 deben guardarse en el directorio creado en el paso 2. \n",
    "4.Crear el archivo test1.txt\n",
    "5.Guardar el texto Hola GBI6 en un archivo test2.txt\n",
    "6.Guardar la instrucción print(\"Hola GBI6\")  en el archivo test1.py\n",
    "\n",
    "<img src=\"![Hola%20GBI6.png](attachment:Hola%20GBI6.png)\" width=600 height=450 />\n",
    "\n",
    "Los pasos para crear un directorio con gitbash puede ser interesante para aprender pasos de programacion, sin embargo no le veo muy necesario hacerlo de esa manera ya que lo puede hacer manualmente sin utilizar el git bash.\n",
    "\n",
    "## Ejercicio 2\n",
    "1.Imprimir el directorio de trabajo actual \n",
    "2.Crear un directorio test1\n",
    "3.No cambie de directorio, pero los items 4, 5 y 6 deben guardarse en el directorio creado en el paso 2. \n",
    "4.Crear el archivo test1.txt\n",
    "5.Guardar el texto Hola GBI6 en un archivo test2.txt\n",
    "6.Guardar la instrucción print(\"Hola GBI6\")  en el archivo test1.py\n",
    "Luego seleccione la instrucción que imprima el número de elementos del directorio test1\n",
    "\n",
    "<img src=\"![ejercicio%202.png](attachment:ejercicio%202.png)\" width=600 height=450 />\n",
    "\n",
    "De la misma manera en este ejericicio los pasos para crear un directorio con gitbash e imprimir instrucciones puede ser interesante para aprender pasos de programacion, sin embargo no le veo muy necesario hacerlo de esa manera ya que lo puede hacer manualmente sin utilizar el git bash.\n",
    "\n",
    "## Ejercicio 3\n",
    "1.Imprimir el directorio de trabajo actual \n",
    "2.Crear un directorio test1\n",
    "3.No cambie de directorio, pero los items 4, 5 y 6 deben guardarse en el directorio creado en el paso 2. \n",
    "4.Crear el archivo test1.txt\n",
    "5.Guardar el texto Hola GBI6 en un archivo test2.txt\n",
    "6.Guardar la instrucción print(\"Hola GBI6\")  en el archivo test1.py\n",
    "Luego seleccione la instrucción que agregue el texto El examen parcial de GBI6 es hoy al archivo test2.txt sin reemplazar y imprima el contenido en la consola.\n",
    "\n",
    "<img src=\"![ejercicio%203.png](attachment:ejercicio%203.png)\" width=600 height=450 />\n",
    "\n",
    "Los pasos para crear un directorio con gitbash e imprimir instrucciones puede ser interesante para aprender pasos de programacion, sin embargo no le veo muy necesario hacerlo de esa manera ya que lo puede hacer manualmente sin utilizar el git bash.\n",
    "\n",
    "## Ejercicio 4\n",
    "Resuelva el ejercicio 1.10.1 Next Generation Sequencing Data. \n",
    "\n",
    "Resuelva el ejercicio en un documento de nombre ejercicio_1101.sh\n",
    "Cargue el documento ejercicio_1101.sh en GitHub utilizando git push. \n",
    "Realice el video explicativo de la resolución ejercicio y guarde en YouTube en formato \"Público\" o \"Unlisted\", y pegue el enlace en el cuaderno de Jupyter.\n"
   ]
  },
  {
   "cell_type": "markdown",
   "metadata": {},
   "source": [
    "<font color='red'>NO AGREGUE NUEVAS CELDAS, UTILICE ÚNICAMENTE LAS QUE ESTÁN CREADAS</font>"
   ]
  },
  {
   "cell_type": "code",
   "execution_count": 2,
   "metadata": {},
   "outputs": [
    {
     "data": {
      "text/html": [
       "<iframe width=\"560\" height=\"315\" src=\"https://www.youtube.com/embed/9ck5iEP03g4\" title=\"YouTube video player\" frameborder=\"0\" allow=\"accelerometer; autoplay; clipboard-write; encrypted-media; gyroscope; picture-in-picture\" allowfullscreen></iframe>"
      ],
      "text/plain": [
       "<IPython.core.display.HTML object>"
      ]
     },
     "execution_count": 2,
     "metadata": {},
     "output_type": "execute_result"
    }
   ],
   "source": [
    "# Coloque aquí su video del ejercicio 4\n",
    "from IPython.display import HTML\n",
    "HTML('<iframe width=\"560\" height=\"315\" src=\"https://www.youtube.com/embed/9ck5iEP03g4\" title=\"YouTube video player\" frameborder=\"0\" allow=\"accelerometer; autoplay; clipboard-write; encrypted-media; gyroscope; picture-in-picture\" allowfullscreen></iframe>')\n"
   ]
  },
  {
   "cell_type": "markdown",
   "metadata": {},
   "source": [
    "Escriba aquí alguna explicación del ejercicio 4 si lo considera necesario (borre esta línea cuando finalice)\n",
    "\n",
    "## Ejercicio 5\n",
    "Resuelva el ejercicio 1.10.4 Data Explorer. \n",
    "\n",
    "Resuelva el ejercicio en un documento de nombre ejercicio_1104.sh\n",
    "Cargue el documento ejercicio_1104.sh en GitHub utilizando git push. \n",
    "Realice el video explicativo de la resolución ejercicio y guarde en YouTube en formato \"Público\" o \"Unlisted\", y pegue el enlace en el cuaderno de Jupyter.\n"
   ]
  },
  {
   "cell_type": "code",
   "execution_count": 1,
   "metadata": {},
   "outputs": [
    {
     "name": "stderr",
     "output_type": "stream",
     "text": [
      "C:\\Users\\JIMMY\\anaconda3\\lib\\site-packages\\IPython\\core\\display.py:724: UserWarning: Consider using IPython.display.IFrame instead\n",
      "  warnings.warn(\"Consider using IPython.display.IFrame instead\")\n"
     ]
    },
    {
     "data": {
      "text/html": [
       "<iframe width=\"560\" height=\"315\" src=\"https://www.youtube.com/embed/3XlZWpLwvvo\" title=\"YouTube video player\" frameborder=\"0\" allow=\"accelerometer; autoplay; clipboard-write; encrypted-media; gyroscope; picture-in-picture\" allowfullscreen></iframe>"
      ],
      "text/plain": [
       "<IPython.core.display.HTML object>"
      ]
     },
     "execution_count": 1,
     "metadata": {},
     "output_type": "execute_result"
    }
   ],
   "source": [
    "# Coloque aquí su video del ejercicio 5\n",
    "from IPython.display import HTML\n",
    "HTML('<iframe width=\"560\" height=\"315\" src=\"https://www.youtube.com/embed/3XlZWpLwvvo\" title=\"YouTube video player\" frameborder=\"0\" allow=\"accelerometer; autoplay; clipboard-write; encrypted-media; gyroscope; picture-in-picture\" allowfullscreen></iframe>')\n"
   ]
  },
  {
   "attachments": {},
   "cell_type": "markdown",
   "metadata": {
    "jp-MarkdownHeadingCollapsed": true,
    "tags": []
   },
   "source": [
    "Escriba aquí alguna explicación del ejercicio 5 si lo considera necesario (borre esta línea cuando finalice)\n",
    "\n",
    "# 2. CONTROL DE LA VERSIÓN\n",
    "## Pregunta 6\n",
    "1. Cree en GitHub un repositorio de nombre ```GBI6_ExamenParcial1```. \n",
    "2. Cree un archivo ```Readme.md``` que debe tener lo siguiente: \n",
    "- Datos personales\n",
    "- Características del computador\n",
    "- Programas utilizados\n",
    "- Explicación de la data utilizada\n",
    "\n",
    "\n",
    "## Pregunta 7\n",
    "1. Cada vez que resuelva un ejercicio (del 1 al 10), utilizando Git Bash, GitHub Desktop o Atom realice un *git push* con el mensaje: \n",
    "\n",
    "\n",
    "<font color='red'>Apellido Nombre ha resuelto el ejercicio 1</font> % Cambie con sus apellidos y nombres; y con el número de ejercicio que corresponda \n",
    "\n",
    "2. Coloque aquí las capturas de pantalla para cada git push realizado desde Git Bash, GitHub Desktop o Atom. \n",
    "\n",
    "- Control de versión ejercicio 1\n",
    "\n",
    "<img src=\"![Yumbo%20jimmy%20ha%20realizado%20el%20ejercicio%201.png](attachment:Yumbo%20jimmy%20ha%20realizado%20el%20ejercicio%201.png)\" width=600 height=450 />\n",
    "\n",
    "- Control de versión ejercicio 2\n",
    "\n",
    "<img src=\"![Yumbo%20jimmy%20ha%20realizado%20el%20ejercicio%202.png](attachment:Yumbo%20jimmy%20ha%20realizado%20el%20ejercicio%202.png)\" width=600 height=450 />\n",
    "\n",
    "- Control de versión ejercicio 3\n",
    "\n",
    "<img src=\"![Yumbo%20jimmy%20ha%20realizado%20el%20ejercicio%203.png](attachment:Yumbo%20jimmy%20ha%20realizado%20el%20ejercicio%203.png)\" width=600 height=450 />\n",
    "\n",
    "- Control de versión ejercicio 4\n",
    "\n",
    "<img src=\"data/ejemplo_unix.jpg\" width=600 height=450 />\n",
    "\n",
    "- Control de versión ejercicio 5\n",
    "\n",
    "<img src=\"data/ejemplo_unix.jpg\" width=600 height=450 />\n",
    "\n",
    "- Control de versión ejercicio 8\n",
    "\n",
    "<img src=\"data/ejemplo_unix.jpg\" width=600 height=450 />\n",
    "\n",
    "- Control de versión ejercicio 9\n",
    "\n",
    "<img src=\"data/ejemplo_unix.jpg\" width=600 height=450 />\n",
    "\n",
    "- Control de versión ejercicio 10\n",
    "\n",
    "<img src=\"data/ejemplo_unix.jpg\" width=600 height=450 />\n",
    "\n",
    "\n",
    "3. Cree un directorio de nombre ```data``` donde deben estar guardados: (i) la data utilizada y (ii) las capturas de pantalla de los ejercicios 1 al 3 y los git push del ejercicio 1 al 10 (en total debe tener 13 imágenes). \n",
    "4. Inserte aquí el enlace de su repositorio (válido para el ejercicio 6 y 7): https://github.com/JimmyYumbo/GBI6_ExamenParcial1.git"
   ]
  },
  {
   "cell_type": "markdown",
   "metadata": {},
   "source": [
    "# 3. INTRODUCCIÓN A PYTHON\n",
    "\n",
    "## Ejercicio 8\n",
    "\n",
    "En la data https://github.com/sap0408/mtcars/blob/master/mtcars.csv, seleccione los 10 primeros registros y cree una lista de nombre lista1.\n"
   ]
  },
  {
   "cell_type": "code",
   "execution_count": 23,
   "metadata": {},
   "outputs": [
    {
     "name": "stdout",
     "output_type": "stream",
     "text": [
      "['Mazda RX4', 'Mazda RX4 Wag', 'Datsun 710', 'Hornet 4 Drive', 'Hornet Sportabout', 'Valiant', 'Duster 360', 'Merc 240D', 'Merc 230', 'Merc 280']\n"
     ]
    },
    {
     "data": {
      "text/plain": [
       "['Datsun 710', 'Hornet 4 Drive', 'Hornet Sportabout']"
      ]
     },
     "execution_count": 23,
     "metadata": {},
     "output_type": "execute_result"
    }
   ],
   "source": [
    "lista1 = [\"Mazda RX4\", \"Mazda RX4 Wag\", \"Datsun 710\", \"Hornet 4 Drive\", \"Hornet Sportabout\", \"Valiant\", \"Duster 360\", \"Merc 240D\", \"Merc 230\", \"Merc 280\"]\n",
    "print(lista1) \n",
    "lista1 [3]\n",
    "lista1.append([\"gbi6\", \"bio1\", \"ikiam\"])\n",
    "len(lista1)\n",
    "lista1 [4]\n",
    "lista1.append([\"gbi6\", \"bio1\", \"ikiam\"])\n",
    "lista1[-1][-3]\n",
    "lista1[2:5]"
   ]
  },
  {
   "cell_type": "markdown",
   "metadata": {},
   "source": [
    "## Ejercicio 9\n",
    "\n",
    "Crear un diccionario de nombre dic_genomas, donde se tenga la información de la tabla 1 que se encuentra en https://www.nature.com/scitable/topicpage/eukaryotic-genome-complexity-437/. \n",
    "Utilice como \"key\" los valores especie de la columna \"Species and Common Name\" y las otras dos columnas ingrese como \"values\". \n",
    "Luego de crear el diccionario, extraiga los valores de \"key\" a una lista de nombre \"especies\"\n",
    "Extraiga los valores de \"value\" a una lista de nombre \"genomas\""
   ]
  },
  {
   "cell_type": "code",
   "execution_count": 55,
   "metadata": {},
   "outputs": [
    {
     "name": "stdout",
     "output_type": "stream",
     "text": [
      "especies dict_keys(['Saccharomyces cerevisiae', 'tricomonas vaginalis', 'Plasmodium falciparum', 'Caenorhabditis', 'Drosophila melanogaster', 'Arabidopsis thaliana', ' Oryza sativa', 'Gallus gallus', 'Canis familiaris', 'Mus musculus', 'Homo sapiens'])\n",
      "genomas dict_values([[{'Tamaño total estimado del genoma pb': '12 millones', 'Número estimado de genes que codifican proteínas': '6,000'}], [{'Tamaño total estimado del genoma pb': '160 millones', 'Número estimado de genes que codifican proteínas': '60.000'}], [{'Tamaño total estimado del genoma pb': '23 millones', 'Número estimado de genes que codifican proteínas': '5,000'}], [{'Tamaño total estimado del genoma pb': '95.5 millones', 'Número estimado de genes que codifican proteínas': '18,000'}], [{'Tamaño total estimado del genoma pb': '170 millones', 'Número estimado de genes que codifican proteínas': '14,000'}], [{'Tamaño total estimado del genoma pb': '125 millones', 'Número estimado de genes que codifican proteínas': '25,000'}], [{'Tamaño total estimado del genoma pb': '470 millones', 'Número estimado de genes que codifican proteínas': '51,000'}], [{'Tamaño total estimado del genoma pb': '1 mil millones', 'Número estimado de genes que codifican proteínas': '20,000-23,000'}], [{'Tamaño total estimado del genoma pb': '2.4 mil millones', 'Número estimado de genes que codifican proteínas': '19,000'}], [{'Tamaño total estimado del genoma pb': '2.5 billones', 'Número estimado de genes que codifican proteínas': '30,000'}], [{'Tamaño total estimado del genoma pb': '2.9 mil millones', 'Número estimado de genes que codifican proteínas': '20,000-25,000'}]])\n"
     ]
    }
   ],
   "source": [
    "dic_genomas = {\n",
    "    \"Saccharomyces cerevisiae\": [\n",
    "        {\"Tamaño total estimado del genoma pb\": \"12 millones\", \"Número estimado de genes que codifican proteínas\": \"6,000\"},\n",
    "    ],\n",
    "    \"tricomonas vaginalis\": [\n",
    "        {\"Tamaño total estimado del genoma pb\": \"160 millones\", \"Número estimado de genes que codifican proteínas\": \"60.000\"},\n",
    "    ],\n",
    "    \"Plasmodium falciparum\": [\n",
    "        {\"Tamaño total estimado del genoma pb\": \"23 millones\", \"Número estimado de genes que codifican proteínas\": \"5,000\"},\n",
    "    ],\n",
    "    \"Caenorhabditis\": [\n",
    "        {\"Tamaño total estimado del genoma pb\": \"95.5 millones\", \"Número estimado de genes que codifican proteínas\": \"18,000\"},\n",
    "    ],\n",
    "    \"Drosophila melanogaster\": [\n",
    "        {\"Tamaño total estimado del genoma pb\": \"170 millones\", \"Número estimado de genes que codifican proteínas\": \"14,000\"},\n",
    "    ],\n",
    "    \"Arabidopsis thaliana\": [\n",
    "        {\"Tamaño total estimado del genoma pb\": \"125 millones\", \"Número estimado de genes que codifican proteínas\": \"25,000\"},\n",
    "    ],\n",
    "    \" Oryza sativa\": [\n",
    "        {\"Tamaño total estimado del genoma pb\": \"470 millones\", \"Número estimado de genes que codifican proteínas\": \"51,000\"},\n",
    "    ],\n",
    "    \"Gallus gallus\": [\n",
    "        {\"Tamaño total estimado del genoma pb\": \"1 mil millones\", \"Número estimado de genes que codifican proteínas\": \"20,000-23,000\"},\n",
    "    ],\n",
    "    \"Canis familiaris\": [\n",
    "        {\"Tamaño total estimado del genoma pb\": \"2.4 mil millones\", \"Número estimado de genes que codifican proteínas\": \"19,000\"},\n",
    "    ],\n",
    "    \"Mus musculus\": [\n",
    "        {\"Tamaño total estimado del genoma pb\": \"2.5 billones\", \"Número estimado de genes que codifican proteínas\": \"30,000\"},\n",
    "    ],\n",
    "    \"Homo sapiens\": [\n",
    "        {\"Tamaño total estimado del genoma pb\": \"2.9 mil millones\", \"Número estimado de genes que codifican proteínas\": \"20,000-25,000\"},\n",
    "    ], \n",
    "}\n",
    "\n",
    "\n",
    "print(\"especies\", dic_genomas.keys())\n",
    "                                                                                                                          \n",
    "print(\"genomas\", dic_genomas.values())"
   ]
  },
  {
   "cell_type": "markdown",
   "metadata": {},
   "source": [
    "## Ejercicio 10\n",
    "\n",
    "Descargue la data \"SI Table 1\" (10080Table1.xls) de la página https://www.pnas.org/content/suppl/2006/12/27/0610080104.DC1. Esta data corresponde a algunas características de sueño de mamíferos. Seleccione los 10 primeros registros de la columna \"Total sleep time, hr\" y cree una lista de nombre lista1."
   ]
  },
  {
   "cell_type": "code",
   "execution_count": 5,
   "metadata": {},
   "outputs": [
    {
     "name": "stdout",
     "output_type": "stream",
     "text": [
      "[8.6, 18.0, 19.4, 13.7, 11.1, 10.1, 10.3, 15.6, 14.9, 9.1]\n"
     ]
    }
   ],
   "source": [
    "lista1 = [8.6, 18.0, 19.4, 13.7, 11.1, 10.1, 10.3, 15.6, 14.9, 9.1]\n",
    "print(lista1)"
   ]
  },
  {
   "cell_type": "code",
   "execution_count": 6,
   "metadata": {},
   "outputs": [
    {
     "data": {
      "text/plain": [
       "13.079999999999998"
      ]
     },
     "execution_count": 6,
     "metadata": {},
     "output_type": "execute_result"
    }
   ],
   "source": [
    "sum(lista1)/len(lista1)"
   ]
  },
  {
   "cell_type": "code",
   "execution_count": 7,
   "metadata": {},
   "outputs": [
    {
     "data": {
      "text/plain": [
       "[14.9, 9.1]"
      ]
     },
     "execution_count": 7,
     "metadata": {},
     "output_type": "execute_result"
    }
   ],
   "source": [
    "lista1[8:]"
   ]
  },
  {
   "cell_type": "code",
   "execution_count": 8,
   "metadata": {},
   "outputs": [
    {
     "data": {
      "text/plain": [
       "10.1"
      ]
     },
     "execution_count": 8,
     "metadata": {},
     "output_type": "execute_result"
    }
   ],
   "source": [
    "lista1[5]"
   ]
  },
  {
   "cell_type": "code",
   "execution_count": 9,
   "metadata": {},
   "outputs": [
    {
     "data": {
      "text/plain": [
       "13.08"
      ]
     },
     "execution_count": 9,
     "metadata": {},
     "output_type": "execute_result"
    }
   ],
   "source": [
    "round(sum(lista1)/len(lista1),3)"
   ]
  },
  {
   "cell_type": "code",
   "execution_count": 10,
   "metadata": {},
   "outputs": [
    {
     "data": {
      "text/plain": [
       "'ikiam'"
      ]
     },
     "execution_count": 10,
     "metadata": {},
     "output_type": "execute_result"
    }
   ],
   "source": [
    "lista1.append([\"gbi6\", \"bio1\", \"ikiam\"])\n",
    "lista1[-1][2]"
   ]
  },
  {
   "cell_type": "code",
   "execution_count": 12,
   "metadata": {},
   "outputs": [
    {
     "name": "stdout",
     "output_type": "stream",
     "text": [
      "[8.6, 18.0, 19.4, 13.7, 11.1, 10.1, 10.3, 15.6, 14.9, 9.1]\n"
     ]
    },
    {
     "data": {
      "text/plain": [
       "13"
      ]
     },
     "execution_count": 12,
     "metadata": {},
     "output_type": "execute_result"
    }
   ],
   "source": [
    "lista1 = [8.6, 18.0, 19.4, 13.7, 11.1, 10.1, 10.3, 15.6, 14.9, 9.1]\n",
    "print(lista1)\n",
    "lista1.extend([\"gbi6\", \"bio1\", \"ikiam\"])\n",
    "len(lista1)"
   ]
  },
  {
   "cell_type": "code",
   "execution_count": null,
   "metadata": {},
   "outputs": [],
   "source": []
  }
 ],
 "metadata": {
  "kernelspec": {
   "display_name": "Python 3 (ipykernel)",
   "language": "python",
   "name": "python3"
  },
  "language_info": {
   "codemirror_mode": {
    "name": "ipython",
    "version": 3
   },
   "file_extension": ".py",
   "mimetype": "text/x-python",
   "name": "python",
   "nbconvert_exporter": "python",
   "pygments_lexer": "ipython3",
   "version": "3.9.7"
  },
  "latex_envs": {
   "LaTeX_envs_menu_present": true,
   "autoclose": false,
   "autocomplete": true,
   "bibliofile": "biblio.bib",
   "cite_by": "apalike",
   "current_citInitial": 1,
   "eqLabelWithNumbers": true,
   "eqNumInitial": 1,
   "hotkeys": {
    "equation": "Ctrl-E",
    "itemize": "Ctrl-I"
   },
   "labels_anchors": false,
   "latex_user_defs": false,
   "report_style_numbering": false,
   "user_envs_cfg": false
  },
  "toc": {
   "base_numbering": 1,
   "nav_menu": {},
   "number_sections": true,
   "sideBar": false,
   "skip_h1_title": false,
   "title_cell": "Table of Contents",
   "title_sidebar": "Contents",
   "toc_cell": false,
   "toc_position": {
    "height": "1152.67px",
    "left": "41px",
    "top": "110px",
    "width": "253.458px"
   },
   "toc_section_display": true,
   "toc_window_display": false
  },
  "varInspector": {
   "cols": {
    "lenName": 16,
    "lenType": 16,
    "lenVar": 40
   },
   "kernels_config": {
    "python": {
     "delete_cmd_postfix": "",
     "delete_cmd_prefix": "del ",
     "library": "var_list.py",
     "varRefreshCmd": "print(var_dic_list())"
    },
    "r": {
     "delete_cmd_postfix": ") ",
     "delete_cmd_prefix": "rm(",
     "library": "var_list.r",
     "varRefreshCmd": "cat(var_dic_list()) "
    }
   },
   "types_to_exclude": [
    "module",
    "function",
    "builtin_function_or_method",
    "instance",
    "_Feature"
   ],
   "window_display": false
  }
 },
 "nbformat": 4,
 "nbformat_minor": 4
}
